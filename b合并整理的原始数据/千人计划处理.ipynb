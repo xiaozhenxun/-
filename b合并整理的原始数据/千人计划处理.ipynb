{
 "cells": [
  {
   "cell_type": "code",
   "execution_count": 1,
   "metadata": {},
   "outputs": [],
   "source": [
    "import pandas as pd"
   ]
  },
  {
   "cell_type": "code",
   "execution_count": 2,
   "metadata": {},
   "outputs": [],
   "source": [
    "qianren=pd.read_excel('16组千人计划.xlsx')"
   ]
  },
  {
   "cell_type": "code",
   "execution_count": 3,
   "metadata": {},
   "outputs": [],
   "source": [
    "#qianren.head(5)"
   ]
  },
  {
   "cell_type": "code",
   "execution_count": 4,
   "metadata": {},
   "outputs": [
    {
     "data": {
      "text/plain": [
       "Index(['姓名', '出生日期', '性别', '所在单位', '所在单位经度', '所在单位纬度', '专业', '是否外籍', '籍贯',\n",
       "       '毕业本科院校', '本科院校经度', '本科院校纬度', '本科毕业时间', '毕业硕士院校', '硕士院校经度', '硕士院校纬度',\n",
       "       '硕士毕业时间', '毕业博士院校', '博士院校经度', '博士院校纬度', '博士毕业时间', '工作经历地点',\n",
       "       '工作经历地点对应经纬度', '所发文章数量', '获得称号所在单位', '获得称号时间'],\n",
       "      dtype='object')"
      ]
     },
     "execution_count": 4,
     "metadata": {},
     "output_type": "execute_result"
    }
   ],
   "source": [
    "qianren.columns"
   ]
  },
  {
   "cell_type": "code",
   "execution_count": 5,
   "metadata": {},
   "outputs": [],
   "source": [
    "qianren_benke=qianren[['姓名', '出生日期', '性别','所在单位', '所在单位经度', '所在单位纬度', '专业', '是否外籍', '籍贯',\n",
    "     '所发文章数量', '获得称号所在单位', '获得称号时间', '毕业本科院校', '本科院校经度', '本科院校纬度', '本科毕业时间']]\n",
    "qianren_shuoshi=qianren[['姓名', '出生日期', '性别','所在单位', '所在单位经度', '所在单位纬度',  '专业', '是否外籍', '籍贯',\n",
    "     '所发文章数量', '获得称号所在单位', '获得称号时间', '毕业硕士院校', '硕士院校经度', '硕士院校纬度','硕士毕业时间']]\n",
    "qianren_boshi=qianren[['姓名', '出生日期', '性别','所在单位', '所在单位经度', '所在单位纬度', '专业', '是否外籍', '籍贯',\n",
    "     '所发文章数量', '获得称号所在单位', '获得称号时间', '毕业博士院校', '博士院校经度', '博士院校纬度', '博士毕业时间']]"
   ]
  },
  {
   "cell_type": "code",
   "execution_count": 6,
   "metadata": {},
   "outputs": [
    {
     "name": "stderr",
     "output_type": "stream",
     "text": [
      "C:\\Users\\lx\\Anaconda3\\lib\\site-packages\\pandas\\core\\frame.py:3027: SettingWithCopyWarning: \n",
      "A value is trying to be set on a copy of a slice from a DataFrame\n",
      "\n",
      "See the caveats in the documentation: http://pandas.pydata.org/pandas-docs/stable/indexing.html#indexing-view-versus-copy\n",
      "  return super(DataFrame, self).rename(**kwargs)\n"
     ]
    }
   ],
   "source": [
    "\n",
    "qianren_benke.rename(columns={'毕业本科院校':'毕业院校', '本科院校经度':'经度', '本科院校纬度':'纬度', '本科毕业时间':'毕业时间'}, inplace = True)\n",
    "qianren_shuoshi.rename(columns={'毕业硕士院校':'毕业院校', '硕士院校经度':'经度', '硕士院校纬度':'纬度', '硕士毕业时间':'毕业时间'}, inplace = True)\n",
    "qianren_boshi.rename(columns={'毕业博士院校':'毕业院校', '博士院校经度':'经度', '博士院校纬度':'纬度', '博士毕业时间':'毕业时间'}, inplace = True)"
   ]
  },
  {
   "cell_type": "code",
   "execution_count": 7,
   "metadata": {},
   "outputs": [
    {
     "name": "stderr",
     "output_type": "stream",
     "text": [
      "C:\\Users\\lx\\Anaconda3\\lib\\site-packages\\ipykernel_launcher.py:1: SettingWithCopyWarning: \n",
      "A value is trying to be set on a copy of a slice from a DataFrame.\n",
      "Try using .loc[row_indexer,col_indexer] = value instead\n",
      "\n",
      "See the caveats in the documentation: http://pandas.pydata.org/pandas-docs/stable/indexing.html#indexing-view-versus-copy\n",
      "  \"\"\"Entry point for launching an IPython kernel.\n",
      "C:\\Users\\lx\\Anaconda3\\lib\\site-packages\\ipykernel_launcher.py:2: SettingWithCopyWarning: \n",
      "A value is trying to be set on a copy of a slice from a DataFrame.\n",
      "Try using .loc[row_indexer,col_indexer] = value instead\n",
      "\n",
      "See the caveats in the documentation: http://pandas.pydata.org/pandas-docs/stable/indexing.html#indexing-view-versus-copy\n",
      "  \n",
      "C:\\Users\\lx\\Anaconda3\\lib\\site-packages\\ipykernel_launcher.py:3: SettingWithCopyWarning: \n",
      "A value is trying to be set on a copy of a slice from a DataFrame.\n",
      "Try using .loc[row_indexer,col_indexer] = value instead\n",
      "\n",
      "See the caveats in the documentation: http://pandas.pydata.org/pandas-docs/stable/indexing.html#indexing-view-versus-copy\n",
      "  This is separate from the ipykernel package so we can avoid doing imports until\n"
     ]
    }
   ],
   "source": [
    "qianren_benke['坐标类型']='本科'\n",
    "qianren_shuoshi['坐标类型']='硕士'\n",
    "qianren_boshi['坐标类型']='博士'"
   ]
  },
  {
   "cell_type": "code",
   "execution_count": 8,
   "metadata": {},
   "outputs": [],
   "source": [
    "qianren_data=pd.concat([qianren_benke,qianren_shuoshi,qianren_boshi])"
   ]
  },
  {
   "cell_type": "code",
   "execution_count": 9,
   "metadata": {},
   "outputs": [],
   "source": [
    "qianren_data.to_excel('千人计划处理.xlsx',index=False)"
   ]
  }
 ],
 "metadata": {
  "kernelspec": {
   "display_name": "Python 3",
   "language": "python",
   "name": "python3"
  },
  "language_info": {
   "codemirror_mode": {
    "name": "ipython",
    "version": 3
   },
   "file_extension": ".py",
   "mimetype": "text/x-python",
   "name": "python",
   "nbconvert_exporter": "python",
   "pygments_lexer": "ipython3",
   "version": "3.6.4"
  }
 },
 "nbformat": 4,
 "nbformat_minor": 2
}
